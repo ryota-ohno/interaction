{
 "cells": [
  {
   "cell_type": "markdown",
   "metadata": {},
   "source": [
    "# import"
   ]
  },
  {
   "cell_type": "code",
   "execution_count": 2,
   "metadata": {},
   "outputs": [],
   "source": [
    "import os\n",
    "import numpy as np\n",
    "import math\n",
    "import pandas as pd\n",
    "import re\n",
    "import shutil\n",
    "import itertools\n",
    "import matplotlib.pyplot as plt\n",
    "import matplotlib.cm as cm"
   ]
  },
  {
   "cell_type": "markdown",
   "metadata": {},
   "source": [
    "# 長軸平行VER"
   ]
  },
  {
   "cell_type": "code",
   "execution_count": 3,
   "metadata": {},
   "outputs": [],
   "source": [
    "class make_gjf():\n",
    "    def __init__(self):\n",
    "        self.path='C:\\\\Users\\\\koyama\\\\OSC\\\\interaction\\\\tetracene\\\\'\n",
    "        \n",
    "        #step1-min of pentacnene\n",
    "        self.R1_list=[4.4,4.5,4.6,4.7,4.8]#[np.round(R1+4.5,1) for R1 in np.linspace(-0.2,0.2,5)]\n",
    "        self.R2_list=[0.7,0.8,0.9,1.0,1.1,1.2]#[np.round(R2+1.2,1) for R2 in np.linspace(-0.2,0.2,5)]\n",
    "        self.heri_list=[48.0,49.0,50.0,51.0,52.0,53.0,54.0,55.0]#[50.0+heri for heri in range(-2,6)]#55degまで\n",
    "        self.R3_list=[np.round(R3,1) for R3 in np.linspace(-4.0,4.0,81)]\n",
    "\n",
    "    def make_arr(self,R1,R2,R3,heri):####i0からみた基準分子\n",
    "        with open(self.path+'dimer_para.gjf','r') as f:#'_step2A'のぞいた。\n",
    "            xyz=f.readlines()\n",
    "        xyz[0]='%mem=15GB\\n'\n",
    "        xyz[1]='%nproc=12\\n'\n",
    "        xyz[4] = 'tetracene R1={} R2={} R3={} heri={}\\n'.format(R1,R2,R3,heri)\n",
    "        xyz[80]='XX '+str(30-R1)+'\\n'\n",
    "        xyz[81]='YY '+str(30+R2)+'\\n'\n",
    "        xyz[82]='ZZ '+str(30-R3)+'\\n'\n",
    "        xyz[83]='BB '+str(heri+0.0)+'\\n'\n",
    "        xyz_add=xyz+['--Link1--\\n']\n",
    "        return xyz_add\n",
    "\n",
    "    def convertor_R(self,Ra,Rb,theta_):\n",
    "        R1=Ra*np.cos(theta_)+Rb*np.sin(theta_)\n",
    "        R2=-Ra*np.sin(theta_)+Rb*np.cos(theta_)\n",
    "        return R1,R2\n",
    "\n",
    "######################################                \n",
    "                \n",
    "    def make_step1(self):\n",
    "        for heri in self.heri_list:\n",
    "            heri_rad=np.radians(heri)\n",
    "            for R1 in self.R1_list:\n",
    "                for R2 in self.R2_list:\n",
    "                    b=2*(R1*np.sin(heri_rad/2)+R2*np.cos(heri_rad/2))\n",
    "                    R1p=b*np.sin(heri_rad/2)\n",
    "                    R2p=b*np.cos(heri_rad/2)\n",
    "                    xyz_t=self.make_arr(R1,R2,0.0,heri)\n",
    "                    xyz_p=self.make_arr(R1p,R2p,0.0,0.0)\n",
    "                    xyz_list=['$ RunGauss\\n']+xyz_t+xyz_p[:-1]\n",
    "                    with open(self.path+'step1\\\\R1={}_R2={}_heri={}.inp'.format(R1,R2,heri),'w') as f:\n",
    "                        f.writelines(xyz_list)\n",
    "\n",
    "\n",
    "    def make_step2(self,R1,R2,heri):\n",
    "        \n",
    "        xyz_list_t=['$ RunGauss\\n'];xyz_list_p=['$ RunGauss\\n']\n",
    "        heri_rad=np.radians(heri)\n",
    "        b=2*(R1*np.sin(heri_rad/2)+R2*np.cos(heri_rad/2))\n",
    "        R1p=b*np.sin(heri_rad/2)\n",
    "        R2p=b*np.cos(heri_rad/2)\n",
    "            \n",
    "        for R3 in self.R3_list:\n",
    "            \n",
    "            xyz_t=self.make_arr(R1,R2,R3,heri)\n",
    "            xyz_p=self.make_arr(R1p,R2p,R3,0.0)\n",
    "            \n",
    "            xyz_list_p=xyz_list_p+xyz_p\n",
    "            xyz_list_t=xyz_list_t+xyz_t\n",
    "            \n",
    "        with open(self.path+'step2\\\\p.inp','w') as f:\n",
    "            f.writelines(xyz_list_p[:-1])\n",
    "        with open(self.path+'step2\\\\t.inp','w') as f:\n",
    "            f.writelines(xyz_list_t[:-1])\n",
    "\n",
    "    #Ri0_vdw_listにRa,Rb,R3のリストを入れる\n",
    "    def make_step3(self,R1,R2,heri,R3t,R3p,Rai0,Rbi0,R3i0,Z):#edge='a','b',Z=1,2\n",
    "        \n",
    "        #p配置のベクトルのための準備\n",
    "        heri_rad=np.radians(heri)\n",
    "        b_=2*(R1*np.sin(heri_rad/2)+R2*np.cos(heri_rad/2))\n",
    "        a_=2*(R1*np.cos(heri_rad/2)-R2*np.sin(heri_rad/2))\n",
    "        R1p=b_*np.sin(heri_rad/2);R2p=b_*np.cos(heri_rad/2)\n",
    "        \n",
    "        #t,p,i0配置の相対位置ベクトル\n",
    "        R1i0,R2i0=self.convertor_R(Rai0,Rbi0,heri_rad/2)\n",
    "        Rt=np.array([R1,R2,R3t])\n",
    "        Rp=np.array([R1p,R2p,R3p])\n",
    "        Ri0=np.array([R1i0,R2i0,R3i0])#層2のZ=1(手前・上)\n",
    "        inter_7list=[[0,0,'p'],[0,1,'p'],[1,0,'t'],[1,-1,'t'],\n",
    "                     [0,-1,'p'],[-1,0,'t'],[-1,1,'t']]\n",
    "        xyz_list=['$ RunGauss\\n']\n",
    "\n",
    "        for ind,arr in enumerate(inter_7list):\n",
    "            t=arr[0];p=arr[1]\n",
    "            R=-Ri0+(Rt*t+Rp*p) #層2の基準分子(Z=1)からみた奥の層1の分子の位置ベクトル\n",
    "            theta=heri if arr[2]=='t' else 0.0\n",
    "            xyz_= self.make_arr(R[0],R[1],R[2],theta)\n",
    "            xyz_list=xyz_list+xyz_\n",
    "\n",
    "        with open(self.path+'step3\\\\R1={}_R2={}_heri={}_R3t={}_R3p={}_Rai0={}_Rbi0={}_R3i0={}_Z={}.inp'.format(R1,R2,heri,R3t,R3p,Rai0,Rbi0,R3i0,Z),'w') as f:\n",
    "            f.writelines(xyz_list[:-1])\n",
    "\n",
    "    def divide_files(self,step,sep=60):#一フォルダのファイル数\n",
    "        path_inp=self.path+'step'+str(step)+'\\\\'\n",
    "\n",
    "        int_folder=0\n",
    "        file_list_inp=[file for file in os.listdir(path_inp) if file[-4:]=='.inp']\n",
    "        while len(file_list_inp)!=0:\n",
    "            \n",
    "            #フォルダ増やす\n",
    "            int_folder+=1\n",
    "            path_inpn=path_inp+'inp'+str(int_folder)\n",
    "            os.mkdir(path_inpn)\n",
    "            \n",
    "            #fileをsepずつ新フォルダに移す\n",
    "            for file in file_list_inp[:min(len(file_list_inp),sep)]:\n",
    "                shutil.move(path_inp+file,path_inpn)\n",
    "            file_list_inp=[file for file in os.listdir(path_inp) if file[-4:]=='.inp']\n",
    "\n",
    "    \n",
    "    def make_exe(self,step):\n",
    "        path_inp=self.path+'step'+str(step)\n",
    "        #mkdir\n",
    "        cc_list_1=['#!/bin/sh \\n',\n",
    "                    '#$ -S /bin/sh \\n',\n",
    "                    '#$ -cwd \\n',\n",
    "                    '#$ -V \\n',\n",
    "                    '#$ -q all.q \\n',\n",
    "                    '#$ -pe OpenMP 40 \\n',\n",
    "                    '\\n',\n",
    "                    'hostname \\n',\n",
    "                    '\\n',\n",
    "                    'export g16root=/home/g03 \\n',\n",
    "                    'source $g16root/g16/bsd/g16.profile \\n',\n",
    "                    '\\n',\n",
    "                    'export GAUSS_SCRDIR=/home/scr/$JOB_ID \\n',\n",
    "                    'mkdir /home/scr/$JOB_ID \\n',\n",
    "                    '\\n']\n",
    "        cc_list=[]\n",
    "        cc_list_2=['\\n',\n",
    "                  'rm -rf /home/scr/$JOB_ID \\n',\n",
    "                  '\\n',\n",
    "                  '\\n',\n",
    "                  '#sleep 500 \\n'\n",
    "                  ]\n",
    "\n",
    "        if step==1 or step==3:\n",
    "            file_list_inp=[fold for fold in os.listdir(path_inp) if fold[:3]=='inp']\n",
    "            N_folder=len(file_list_inp)\n",
    "            for n_folder in range(1,N_folder+1):\n",
    "                path_inpn=self.path+'step'+str(step)+'\\\\inp'+str(n_folder)\n",
    "                file_list=[file[:-4] for file in os.listdir(path_inpn) if file[-4:]=='.inp']\n",
    "                cc_list=[]\n",
    "                for file_name in file_list:\n",
    "                    line='g16 < '+file_name+'.inp > '+file_name+'.log \\n'\n",
    "                    cc_list.append(line)\n",
    "                with open(path_inpn+'\\\\n02.r1','w') as f:\n",
    "                    f.writelines(cc_list_1+cc_list+cc_list_2)\n",
    "                    \n",
    "        elif step==2:\n",
    "            cc_list=['g16 < t.inp > t.log \\n','g16 < p.inp > p.log \\n']\n",
    "            with open(path_inp+'\\\\n02.r1','w') as f:\n",
    "                    f.writelines(cc_list_1+cc_list+cc_list_2)\n",
    "                \n"
   ]
  },
  {
   "cell_type": "markdown",
   "metadata": {},
   "source": [
    "step1"
   ]
  },
  {
   "cell_type": "code",
   "execution_count": 3,
   "metadata": {},
   "outputs": [],
   "source": [
    "maker_1=make_gjf()\n",
    "maker_1.make_step1()\n",
    "maker_1.divide_files(step=1,sep=40)\n",
    "maker_1.make_exe(step=1)"
   ]
  },
  {
   "cell_type": "markdown",
   "metadata": {},
   "source": [
    "step2"
   ]
  },
  {
   "cell_type": "code",
   "execution_count": 3,
   "metadata": {},
   "outputs": [],
   "source": [
    "maker_1=make_gjf()\n",
    "maker_1.make_step2(R1=4.6,R2=1.0,heri=53.0)\n",
    "maker_1.make_exe(step=2)"
   ]
  },
  {
   "cell_type": "markdown",
   "metadata": {},
   "source": [
    "step3"
   ]
  },
  {
   "cell_type": "markdown",
   "metadata": {},
   "source": [
    "1.長軸が揃う"
   ]
  },
  {
   "cell_type": "code",
   "execution_count": 7,
   "metadata": {},
   "outputs": [],
   "source": [
    "R1=4.6;R2=1.0;heri=53.0\n",
    "R3t=0.0;R3p=0.0;R3t2=np.round(R3t-R3p,1)\n",
    "\n",
    "##########ここだけいじる\n",
    "Rai0=2.0;Rbi0=0.0;R3i0=13.2#vdwmin=min:V=569.6617290703205 Ra=-1.9 Rb=-0.1 R3=13.16\n",
    "##########\n",
    "\n",
    "maker_3=make_gjf()"
   ]
  },
  {
   "cell_type": "code",
   "execution_count": 8,
   "metadata": {},
   "outputs": [],
   "source": [
    "for dRa_i0 in np.linspace(-0.4,0.4,5):\n",
    "    Ra=np.round(Rai0+dRa_i0,1)\n",
    "    for dRb_i0 in np.linspace(-0.4,0.4,5):\n",
    "        Rb=np.round(Rbi0+dRb_i0,1)\n",
    "        for dR3_i0 in np.linspace(-0.4,0.4,5):\n",
    "            R3=np.round(R3i0+dR3_i0,1)\n",
    "            maker_3.make_step3(R1=R1,R2=R2,heri=heri,\n",
    "                               R3t=R3t,R3p=R3p,\n",
    "                               Rai0=Ra, Rbi0=Rb, R3i0=R3,Z=1)\n",
    "            maker_3.make_step3(R1=R1,R2=R2,heri=heri,\n",
    "                               R3t=R3t2,R3p=-R3p,\n",
    "                               Rai0=Ra, Rbi0=-Rb, R3i0=R3,Z=2)            "
   ]
  },
  {
   "cell_type": "code",
   "execution_count": 11,
   "metadata": {},
   "outputs": [],
   "source": [
    "maker_3.divide_files(step=3,sep=85)\n",
    "maker_3.make_exe(step=3)"
   ]
  },
  {
   "cell_type": "markdown",
   "metadata": {},
   "source": [
    "2.ベンゼン環一個分のずれ "
   ]
  },
  {
   "cell_type": "code",
   "execution_count": 9,
   "metadata": {},
   "outputs": [],
   "source": [
    "R1=4.6;R2=1.0;heri=53.0\n",
    "R3t=2.1;R3p=2.0;R3t2=np.round(R3t-R3p,1)\n",
    "\n",
    "##########ここだけいじる\n",
    "Rai0=0.0;Rbi0=1.4;R3i0=13.6#min:V=568.7375581214899 Ra=0.0 Rb=1.4 R3=13.62\n",
    "##########\n",
    "\n",
    "maker_3=make_gjf()"
   ]
  },
  {
   "cell_type": "code",
   "execution_count": 10,
   "metadata": {},
   "outputs": [],
   "source": [
    "for dRa_i0 in np.linspace(-0.4,0.4,5):\n",
    "    Ra=np.round(Rai0+dRa_i0,1)\n",
    "    for dRb_i0 in np.linspace(-0.4,0.4,5):\n",
    "        Rb=np.round(Rbi0+dRb_i0,1)\n",
    "        for dR3_i0 in np.linspace(-0.4,0.4,5):\n",
    "            R3=np.round(R3i0+dR3_i0,1)\n",
    "            maker_3.make_step3(R1=R1,R2=R2,heri=heri,\n",
    "                               R3t=R3t,R3p=R3p,\n",
    "                               Rai0=Ra, Rbi0=Rb, R3i0=R3,Z=1)\n",
    "            maker_3.make_step3(R1=R1,R2=R2,heri=heri,\n",
    "                               R3t=R3t2,R3p=-R3p,\n",
    "                               Rai0=Ra, Rbi0=-Rb, R3i0=R3,Z=2)            "
   ]
  },
  {
   "cell_type": "code",
   "execution_count": 8,
   "metadata": {},
   "outputs": [],
   "source": [
    "# #追加ファイル\n",
    "# for Ra in [-0.2,0.0,0.2,0.4]:\n",
    "#     for Rb in [1.2,1.4,1.6,1.8]:\n",
    "#         for R3 in [10.6,10.8]:\n",
    "#             maker_3.make_step3(R1=R1,R2=R2,heri=heri,\n",
    "#                                R3t=R3t,R3p=R3p,\n",
    "#                                Rai0=Ra, Rbi0=Rb, R3i0=R3,Z=1)\n",
    "#             maker_3.make_step3(R1=R1,R2=R2,heri=heri,\n",
    "#                                R3t=R3t2,R3p=-R3p,\n",
    "#                                Rai0=Ra, Rbi0=-Rb, R3i0=R3,Z=2)            "
   ]
  },
  {
   "cell_type": "code",
   "execution_count": 9,
   "metadata": {},
   "outputs": [],
   "source": [
    "maker_3.divide_files(step=3,sep=22)\n",
    "maker_3.make_exe(step=3)"
   ]
  },
  {
   "cell_type": "markdown",
   "metadata": {},
   "source": [
    "3. T-shapeのみ一個分のずれ (まだ回してない 7/16)"
   ]
  },
  {
   "cell_type": "code",
   "execution_count": null,
   "metadata": {},
   "outputs": [],
   "source": [
    "R1=4.6;R2=1.0;heri=53.0\n",
    "R3t=2.3;R3p=0.0;R3t2=np.round(R3t-R3p,1)\n",
    "\n",
    "##########ここだけいじる\n",
    "Rai0=1.0;Rbi0=0.0;R3i0=14.0 #min:V=577.9105541553267 Ra=0.9 Rb=-0.1 R3=13.92\n",
    "##########\n",
    "\n",
    "maker_3=make_gjf()"
   ]
  },
  {
   "cell_type": "code",
   "execution_count": null,
   "metadata": {},
   "outputs": [],
   "source": [
    "for dRa_i0 in np.linspace(-0.4,0.4,5):\n",
    "    Ra=np.round(Rai0+dRa_i0,1)\n",
    "    for dRb_i0 in np.linspace(-0.4,0.4,5):\n",
    "        Rb=np.round(Rbi0+dRb_i0,1)\n",
    "        for dR3_i0 in np.linspace(-0.4,0.4,5):\n",
    "            R3=np.round(R3i0+dR3_i0,1)\n",
    "            maker_3.make_step3(R1=R1,R2=R2,heri=heri,\n",
    "                               R3t=R3t,R3p=R3p,\n",
    "                               Rai0=Ra, Rbi0=Rb, R3i0=R3,Z=1)\n",
    "            maker_3.make_step3(R1=R1,R2=R2,heri=heri,\n",
    "                               R3t=R3t2,R3p=-R3p,\n",
    "                               Rai0=Ra, Rbi0=-Rb, R3i0=R3,Z=2)            "
   ]
  },
  {
   "cell_type": "code",
   "execution_count": null,
   "metadata": {},
   "outputs": [],
   "source": [
    "maker_3.divide_files(step=3,sep=50)\n",
    "maker_3.make_exe(step=3)"
   ]
  }
 ],
 "metadata": {
  "kernelspec": {
   "display_name": "Python 3",
   "language": "python",
   "name": "python3"
  },
  "language_info": {
   "codemirror_mode": {
    "name": "ipython",
    "version": 3
   },
   "file_extension": ".py",
   "mimetype": "text/x-python",
   "name": "python",
   "nbconvert_exporter": "python",
   "pygments_lexer": "ipython3",
   "version": "3.7.6"
  }
 },
 "nbformat": 4,
 "nbformat_minor": 4
}
