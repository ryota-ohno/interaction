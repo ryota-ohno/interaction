{
 "cells": [
  {
   "cell_type": "code",
   "execution_count": 1,
   "metadata": {},
   "outputs": [],
   "source": [
    "import os\n",
    "import pandas as pd\n",
    "import matplotlib as mpl\n",
    "import matplotlib.pyplot as plt\n",
    "import numpy as np\n",
    "import shutil as sh\n",
    "import re\n",
    "import os\n",
    "import matplotlib as mpl\n",
    "from matplotlib.colors import Normalize \n",
    "import matplotlib.pyplot as plt\n",
    "import pandas as pd\n",
    "import numpy as np\n",
    "from mpl_toolkits.mplot3d import Axes3D\n",
    "import matplotlib.cm as cm"
   ]
  },
  {
   "cell_type": "code",
   "execution_count": 2,
   "metadata": {},
   "outputs": [],
   "source": [
    "class calc():\n",
    "    def __init__(self):\n",
    "        self.R3_list=[np.round(r,1) for r in np.linspace(-4.0,4.0,81)]\n",
    "        self.path='C:\\\\Users\\\\koyama\\\\OSC\\\\interaction\\\\tetracene\\\\'\n",
    "        self.A1_list=[int(A1) for A1 in np.linspace(1,40,40)]\n",
    "        self.N=41\n",
    "\n",
    "    def calculator(self,path_file):\n",
    "        with open(path_file,'r') as f:\n",
    "            lines=f.readlines()\n",
    "        lines_E=[]\n",
    "        for line in lines:\n",
    "            if line.find('E(RB3LYP)')>-1:\n",
    "                lines_E.append(float(line.split()[4])*627.510)\n",
    "        E_list=[lines_E[5*i]-lines_E[5*i+1]-lines_E[5*i+2] for i in range(int(len(lines_E)/5))]\n",
    "        return E_list\n",
    "        \n",
    "    def calc_step1(self):\n",
    "        df=pd.DataFrame(columns=['R1','R2','heri','E_t','E_p','E'])\n",
    "        out_dir=self.path+'step1'#outファイルのあるディレクトリ\n",
    "        for file in os.listdir(out_dir):\n",
    "            if file[-4:]!='.out' and file[-4:]!='.log':\n",
    "                continue\n",
    "            _,R1,_,R2,_,theta=re.split('[_=]', file[:-4])\n",
    "            E_list=self.calculator(out_dir+'\\\\'+file)\n",
    "            if len(E_list)!=2:\n",
    "                print(file)\n",
    "                continue\n",
    "            E_t=float(E_list[0]);E_p=float(E_list[1])\n",
    "            data=pd.Series([R1,R2,theta,E_t,E_p,4*E_t+2*E_p],index=df.columns)#セル当たりの格子エネルギー\n",
    "            df=df.append(data,ignore_index=True)\n",
    "        df=df.sort_values('heri')\n",
    "        df=df.reset_index(drop=True)\n",
    "        df.to_csv(out_dir+'\\\\step1.csv',index=False)\n",
    "\n",
    "        \n",
    "    def calc_step2(self):\n",
    "        df=pd.DataFrame(columns=['R3t','R3p','Et1','Ep','Et2','E'])\n",
    "        Et_list=self.calculator(self.path+'step2/t.log')\n",
    "        Ep_list=self.calculator(self.path+'step2/p.log')\n",
    "        for id_t,R3t in enumerate(self.R3_list):\n",
    "            for id_p,R3p in enumerate(self.R3_list):\n",
    "                if (R3t-R3p)>4.0 or (R3t-R3p)<-4.0:\n",
    "                    continue\n",
    "                Et2 = Et_list[id_t-id_p+40]\n",
    "                Et1 = Et_list[id_t]\n",
    "                Ep = Ep_list[id_p]\n",
    "                data = pd.Series([R3t,R3p,Et1,Ep,Et2,2*Et1+2*Et2+2*Ep],index=df.columns)\n",
    "                df = df.append(data,ignore_index=True)\n",
    "        df.to_csv(self.path+'step2/step2.csv',index=False)\n",
    "        \n",
    "    def calc_step3(self):\n",
    "        #Z=1か2かで分ける。\n",
    "        df_1=pd.DataFrame(columns=['R1','R2','heri','R3t','R3p','Rai0','Rbi0','R3i0','E','i0','ip1','it1','it2','ip2','it3','it4'])\n",
    "        df_2=pd.DataFrame(columns=['R1','R2','heri','R3t','R3p','Rai0','Rbi0','R3i0','E','i0','ip1','it1','it2','ip2','it3','it4'])\n",
    "        path_csv=self.path+'step3/'\n",
    "        for file in os.listdir(path_csv):\n",
    "            if file[-4:]!='.log':\n",
    "                continue\n",
    "            _,R1,_,R2,_,heri,_,R3t,_,R3p,_,Rai0,_,Rbi0,_,R3i0,_,Z=re.split('[=_]',file[:-4])\n",
    "            E_list=self.calculator(path_csv+file)\n",
    "            para_list=list(map(float,[R1,R2,heri,R3t,R3p,Rai0,Rbi0,R3i0]))\n",
    "            if len(E_list)!=7:\n",
    "                print(para_list)\n",
    "            data=pd.Series(para_list+[sum(E_list)]+E_list,index=df_1.columns)#Z=1,2で同じ操作。データ格納\n",
    "            if int(Z)==1:\n",
    "                df_1=df_1.append(data,ignore_index=True)\n",
    "            elif int(Z)==2:\n",
    "                df_2=df_2.append(data,ignore_index=True)\n",
    "        #生データdf_1,df_2をcsv出力\n",
    "        df_raw=pd.concat([df_1,df_2],ignore_index=True);df_raw.to_csv(path_csv+'raw_data.csv')\n",
    "        \n",
    "        #df_2のパラメータをZ=1へ変換してマージ。E_sumだけを出力\n",
    "        df_2['R3t']=df_2['R3t'].values-df_2['R3p'].values#R3t=R3t2'=R3t'-R3p'\n",
    "        df_2['R3p']=-df_2['R3p'].values#R3_p=-R3_p'\n",
    "        df_2['Rbi0']=-df_2['Rbi0'].values#Rb_i0:-Rb_i0'\n",
    "        \n",
    "        self.df_1=df_1;self.df_2=df_2\n",
    "        df=pd.merge(df_1.round(6).loc[:,'R1':'E'],df_2.round(6).loc[:,'R1':'E'],on=['R1','R2','heri','R3t','R3p','Rai0','Rbi0','R3i0'],suffixes=['_Z=1','_Z=2'])\n",
    "        assert df.shape[0]!=0\n",
    "        df['E_total']=df['E_Z=1'].values+df['E_Z=2'].values\n",
    "        df.to_csv(path_csv+'step3.csv',index=False)\n",
    "        \n",
    "    def calc_step2B3(self):\n",
    "        df=pd.DataFrame(columns=['A2','a','b','Et','Ep','Ei0','Eip1','Eit1','Eip2','Eit3','E'])\n",
    "        out_dir=self.path+'step2B3'#outファイルのあるディレクトリ\n",
    "        for file in os.listdir(out_dir):\n",
    "            if file[-4:]!='.out' and file[-4:]!='.log':\n",
    "                continue\n",
    "            _,A2,_,a,_,b=re.split('[_=]', file[:-4])\n",
    "            E_list=self.calculator(out_dir+'\\\\'+file)\n",
    "            if len(E_list)!=7:\n",
    "                print(file)\n",
    "            Et,Ep,Ei0,Eip1,Eit1,Eip2,Eit3=list(map(float,E_list))\n",
    "            E_6inter=4*Et+2*Ep\n",
    "            E_interlayer=2*(Ei0+Eip1+2*Eit1+Eip2+2*Eit3)\n",
    "            data=pd.Series([A2,a,b,Et,Ep,Ei0,Eip1,Eit1,Eip2,Eit3,E_6inter+E_interlayer],index=df.columns)#セル当たりの格子エネルギー\n",
    "            df=df.append(data,ignore_index=True)\n",
    "        df.to_csv(out_dir+'\\\\step2B3.csv',index=False)\n"
   ]
  },
  {
   "cell_type": "markdown",
   "metadata": {},
   "source": [
    "# step1"
   ]
  },
  {
   "cell_type": "code",
   "execution_count": 3,
   "metadata": {},
   "outputs": [],
   "source": [
    "calc_1=calc()\n",
    "calc_1.calc_step1()"
   ]
  },
  {
   "cell_type": "markdown",
   "metadata": {},
   "source": [
    "# step2"
   ]
  },
  {
   "cell_type": "code",
   "execution_count": 3,
   "metadata": {},
   "outputs": [],
   "source": [
    "calc_2=calc()\n",
    "calc_2.calc_step2()"
   ]
  },
  {
   "cell_type": "markdown",
   "metadata": {},
   "source": [
    "# step2B+3"
   ]
  },
  {
   "cell_type": "code",
   "execution_count": 8,
   "metadata": {},
   "outputs": [],
   "source": [
    "calc_2B3=calc()\n",
    "calc_2B3.calc_step2B3()"
   ]
  },
  {
   "cell_type": "markdown",
   "metadata": {},
   "source": [
    "# step3"
   ]
  },
  {
   "cell_type": "code",
   "execution_count": 3,
   "metadata": {},
   "outputs": [],
   "source": [
    "calc_3=calc()\n",
    "calc_3.calc_step3()"
   ]
  }
 ],
 "metadata": {
  "kernelspec": {
   "display_name": "Python 3",
   "language": "python",
   "name": "python3"
  },
  "language_info": {
   "codemirror_mode": {
    "name": "ipython",
    "version": 3
   },
   "file_extension": ".py",
   "mimetype": "text/x-python",
   "name": "python",
   "nbconvert_exporter": "python",
   "pygments_lexer": "ipython3",
   "version": "3.7.6"
  }
 },
 "nbformat": 4,
 "nbformat_minor": 4
}
